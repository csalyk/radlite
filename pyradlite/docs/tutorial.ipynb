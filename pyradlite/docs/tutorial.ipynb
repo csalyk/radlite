{
 "cells": [
  {
   "cell_type": "markdown",
   "metadata": {},
   "source": [
    "# Tutorial for pyradlite\n"
   ]
  },
  {
   "cell_type": "markdown",
   "metadata": {},
   "source": [
    "Plan for tutorial:\n",
    "\n",
    "1. Overview of what's in the tutorial (different sections)\n",
    "2. Getting started - necessary input files (examples in files_for_tutorial)\n",
    "3. Initializing radlite class\n",
    "- Inspecting input using plot_attr()\n",
    "4. run_radlite()\n",
    "- How it flows\n",
    "5. plot_attr()\n",
    "\n",
    "RadliteSpectrum()\n",
    "- Initializing class\n",
    "- Running gen_spec()\n",
    "- plot_spec()\n",
    " - chaining plots across different runs\n",
    " - chaining plots across different molecules\n",
    "- fits\n",
    "\n",
    "6. Multiple runs (using python to read/write .json files, but changing a certain parameter)\n",
    "7. More complicated structures (using inheritance)\n",
    "\n"
   ]
  }
 ],
 "metadata": {
  "kernelspec": {
   "display_name": "Python 3",
   "language": "python",
   "name": "python3"
  },
  "language_info": {
   "codemirror_mode": {
    "name": "ipython",
    "version": 3
   },
   "file_extension": ".py",
   "mimetype": "text/x-python",
   "name": "python",
   "nbconvert_exporter": "python",
   "pygments_lexer": "ipython3",
   "version": "3.7.3"
  }
 },
 "nbformat": 4,
 "nbformat_minor": 2
}
