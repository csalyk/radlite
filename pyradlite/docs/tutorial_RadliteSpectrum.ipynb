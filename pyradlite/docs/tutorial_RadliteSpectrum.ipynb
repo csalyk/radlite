{
 "cells": [
  {
   "cell_type": "markdown",
   "metadata": {},
   "source": [
    "RadliteSpectrum()\n",
    "- Initializing class\n",
    "- Running gen_spec()\n",
    "- plot_spec()\n",
    " - chaining plots across different runs\n",
    " - chaining plots across different molecules\n",
    "- fits\n",
    "\n",
    "6. Multiple runs (using python to read/write .json files, but changing a certain parameter)\n",
    "7. Different physical models (using inheritance)\n",
    "\n",
    "\n"
   ]
  }
 ],
 "metadata": {
  "kernelspec": {
   "display_name": "Python 3",
   "language": "python",
   "name": "python3"
  },
  "language_info": {
   "codemirror_mode": {
    "name": "ipython",
    "version": 3
   },
   "file_extension": ".py",
   "mimetype": "text/x-python",
   "name": "python",
   "nbconvert_exporter": "python",
   "pygments_lexer": "ipython3",
   "version": "3.7.3"
  }
 },
 "nbformat": 4,
 "nbformat_minor": 2
}
