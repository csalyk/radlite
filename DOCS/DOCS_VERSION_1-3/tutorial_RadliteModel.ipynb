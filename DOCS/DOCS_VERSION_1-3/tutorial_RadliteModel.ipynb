{
 "cells": [
  {
   "cell_type": "markdown",
   "metadata": {},
   "source": [
    "# Tutorial for $\\textit{RadliteModel}$\n"
   ]
  },
  {
   "cell_type": "markdown",
   "metadata": {},
   "source": [
    "**Welcome!**\n",
    "\n",
    "This tutorial walks through the basic functionalities of the $\\textit{RadliteModel}$ class.  With this class, we can ultimately use the ray-tracing code RADLite to calculate molecular lines within our specified range of criteria.\n",
    "\n",
    "Here are all of the topics that we'll cover:\n",
    "\n",
    "- Setup\n",
    "- Getting started\n",
    "- Initializing the $\\textit{RadliteModel}$ class\n",
    "- Inspecting the RADLite setup\n",
    "    - Fetching attributes (and units)\n",
    "    - Plotting attributes\n",
    "- Running RADLite\n",
    "\n",
    "\n",
    "***Preceding tutorial: N/A.***\n",
    "***Next tutorial: \"tutorial_RadliteSpectrum.ipynb\".***"
   ]
  },
  {
   "cell_type": "markdown",
   "metadata": {},
   "source": [
    "## Setup\n",
    "\n",
    "Before you can run this tutorial, you'll need to complete two essential, non-Python setup tasks:\n",
    "\n",
    "1. Install RADLite (i.e., run the install file within the RADLITE folder).\n",
    "2. Download HITRAN data files from the HITRAN website (https://hitran.org/).  We recommend putting them in a folder called \"HITRAN\" within the same directory as the \"DOCS\" and \"RADLITE\" folders."
   ]
  },
  {
   "cell_type": "markdown",
   "metadata": {},
   "source": [
    "## Getting started\n",
    "\n",
    "To make this tutorial a bit more robust to different installation styles (e.g., if you've directly downloaded the code from Github), we'll first directly add the path to the package to system path file using the Python $\\textit{sys}$ package:"
   ]
  },
  {
   "cell_type": "code",
   "execution_count": null,
   "metadata": {},
   "outputs": [],
   "source": [
    "#Add path to Python-RADLite package to system\n",
    "import sys\n",
    "sys.path.append(\"../../pyradlite/pyradlite/\")"
   ]
  },
  {
   "cell_type": "markdown",
   "metadata": {},
   "source": [
    "And now we import the Python-RADLite module from within $\\textit{pyradlite}$:"
   ]
  },
  {
   "cell_type": "code",
   "execution_count": null,
   "metadata": {},
   "outputs": [],
   "source": [
    "#Import Python-RADLite package\n",
    "import radlite as RDL"
   ]
  },
  {
   "cell_type": "markdown",
   "metadata": {},
   "source": [
    "We'll refer to the Python-RADLite module as $\\textit{RDL}$ from here on out."
   ]
  },
  {
   "cell_type": "markdown",
   "metadata": {},
   "source": [
    "## Initializing the $\\textit{RadliteModel}$ class"
   ]
  },
  {
   "cell_type": "markdown",
   "metadata": {},
   "source": [
    "Next, we define the paths+filenames to the input .json files that $\\textit{RadliteModel}$ needs to run:\n",
    "\n",
    "The first one, which we have named \"input_radlite.json\", contains all of the parameters necessary to run RADLite.  You're welcome to go in and play around with different values, but **please don't remove any of the inputs!!!**  The code needs those values to run.\n",
    "\n",
    "The second, which we have named \"data_hitran.json\", contains information (molecular weights, names of the HITRAN files, etc.) that are necessary for accessing molecules provided in the HITRAN file with this code.  You don't really need to change this file, unless you wanted to add more molecules than what we have already included.  Note that any molecules you add *must be contained in the HITRAN database*."
   ]
  },
  {
   "cell_type": "code",
   "execution_count": null,
   "metadata": {},
   "outputs": [],
   "source": [
    "#Path+name strings to the .json input files\n",
    "infilename = \"files_for_tutorials/input_radlite.json\" #Input file with RADLite parameters\n",
    "hitranfilename = \"files_for_tutorials/data_hitran.json\" #Input file with HITRAN parameters"
   ]
  },
  {
   "cell_type": "markdown",
   "metadata": {},
   "source": [
    "Finally, we define the path to the folder containing all of the RADMC output files."
   ]
  },
  {
   "cell_type": "code",
   "execution_count": null,
   "metadata": {},
   "outputs": [],
   "source": [
    "#Path to the RADMC output files\n",
    "radmcfilepath = \"files_for_tutorials/radmc_outputs/\""
   ]
  },
  {
   "cell_type": "markdown",
   "metadata": {},
   "source": [
    "Now let's initialize an instance of the $\\textit{RadliteModel}$ class.  By default we have set $\\textit{verbose=True}$ in the input file \"input_radlite.json\", so when you run the next cell you should get lots of appropriately-verbose messages telling you what's happening behind-the-scenes:"
   ]
  },
  {
   "cell_type": "code",
   "execution_count": null,
   "metadata": {},
   "outputs": [],
   "source": [
    "#Initialize an instance of the RadliteModel() class\n",
    "myMod = RDL.RadliteModel(infilename=infilename, hitranfilename=hitranfilename,\n",
    "                         radmcfilepath=radmcfilepath)"
   ]
  },
  {
   "cell_type": "markdown",
   "metadata": {},
   "source": [
    "If all went well, you should see a message towards the bottom of the verbose output telling you that the RADLite preparation is complete."
   ]
  },
  {
   "cell_type": "markdown",
   "metadata": {},
   "source": [
    "## Inspecting the RADLite setup"
   ]
  },
  {
   "cell_type": "markdown",
   "metadata": {},
   "source": [
    "Before we actually run RADLite, we can take some time to inspect the RADLite setup."
   ]
  },
  {
   "cell_type": "markdown",
   "metadata": {},
   "source": [
    "### Fetching attributes (and units)"
   ]
  },
  {
   "cell_type": "markdown",
   "metadata": {},
   "source": [
    "We can access user-specified inputs, as well as physical components of the model that $\\textit{RadliteModel}$ calculated during initialization, using the $\\textit{get_attr}$ method.  We only have to pass in the string name of the attribute.  Here are some examples:"
   ]
  },
  {
   "cell_type": "code",
   "execution_count": null,
   "metadata": {},
   "outputs": [],
   "source": [
    "#Print the number of cores assigned to this model\n",
    "print(myMod.get_attr(\"numcores\"))\n",
    "\n",
    "#Record and print the first 10 theta points\n",
    "thetas = myMod.get_attr(\"theta\")\n",
    "print(thetas[0:10])\n",
    "\n",
    "#Print the gastodust ratio\n",
    "print(myMod.get_attr(\"gastodust\"))\n",
    "\n",
    "#Print the name of the molecule for which RADLite will calculate fluxes\n",
    "print(myMod.get_attr(\"molname\"))"
   ]
  },
  {
   "cell_type": "markdown",
   "metadata": {},
   "source": [
    "If we are ever unsure of the exact name of a quantity, then we can pass in the string \"help\", and the code will throw a helpful error returning all attributes that we can access through this method:"
   ]
  },
  {
   "cell_type": "code",
   "execution_count": null,
   "metadata": {},
   "outputs": [],
   "source": [
    "#Uncomment the code below to produce the error\n",
    "\n",
    "#myMod.get_attr(\"help\")"
   ]
  },
  {
   "cell_type": "markdown",
   "metadata": {},
   "source": [
    "We can also get the automatic units (in Latex notation) for any of the quantities calculated during initialization using the $\\textit{get_unit}$ method.  Most quantities are in cgs units.  Here are some examples:"
   ]
  },
  {
   "cell_type": "code",
   "execution_count": null,
   "metadata": {},
   "outputs": [],
   "source": [
    "#Print the unit for the phi-component of the velocity\n",
    "print(myMod.get_unit(\"velocity_phi\"))\n",
    "\n",
    "#Print the unit for the radius points\n",
    "print(myMod.get_unit(\"radius\"))"
   ]
  },
  {
   "cell_type": "markdown",
   "metadata": {},
   "source": [
    "Note that $\\textit{get_unit}$ doesn't give the correct units for user-specified inputs that we passed in during initialization - we'll only get back an empty string.  But we can always refer back to the input file itself if we want to see the units assumed for those input quantities."
   ]
  },
  {
   "cell_type": "markdown",
   "metadata": {},
   "source": [
    "### Plotting attributes"
   ]
  },
  {
   "cell_type": "markdown",
   "metadata": {},
   "source": [
    "The method $\\textit{plot_attr}$ is a ***simple*** method (heavy emphasis on the word ***simple***) that is meant to do quick sensible inspections of the setup.  Beneath the hood, it uses the Python matplotlib package, and is only meant to be a shortcut towards plotting the physical components of the model.\n",
    "\n",
    "Depending on the dimensions (1D or 2D) of the physical component, $\\textit{plot_attr}$ will plot either a line+scatter plot or a gradient.  For example, we can plot the 1D radius and 1D theta points like so:"
   ]
  },
  {
   "cell_type": "code",
   "execution_count": null,
   "metadata": {},
   "outputs": [],
   "source": [
    "#Plot the sampled radius and theta points\n",
    "myMod.plot_attr(\"radius\") #For radius points\n",
    "myMod.plot_attr(\"theta\") #For theta points"
   ]
  },
  {
   "cell_type": "markdown",
   "metadata": {},
   "source": [
    "The code automatically plotted the given attribute along a number line.  Notice that the code also automatically populated the y-axis labels+units for us.\n",
    "\n",
    "Before we move onto the 2D case, we can make the 1D plot a little fancier.  This method accepts several of the parameters used commonly by the matplotlib package.  For example, let's do the following for a plot of the radial points:\n",
    "- Change the figure size\n",
    "- Change the x-axis scale to log\n",
    "- Change the units of the y-axis by scaling the values\n",
    "- Override the y-axis label unit\n",
    "- Change the size/colors of the markers and line\n",
    "- Put in a title"
   ]
  },
  {
   "cell_type": "code",
   "execution_count": null,
   "metadata": {},
   "outputs": [],
   "source": [
    "#Set some parameters to pass into the plot_attr method\n",
    "figsize = (10, 6) #Figure size\n",
    "xlog = True #Put the x-axis on a log-scale\n",
    "yscaler = 6.6846E-14 #Multiplicative factor that will scale the y-axis from cm to AU\n",
    "yunit = \"AU\" #Override the y-axis label unit\n",
    "#\n",
    "markercolor = \"gold\" #Change the marker color\n",
    "markersize = 7 #Change the marker size\n",
    "linecolor = \"purple\" #Change the line color\n",
    "linewidth = 5 #Change the line thickness\n",
    "alpha = 0.5 #Make everything a bit more translucent\n",
    "#\n",
    "title = \"A Snazzy Plot of Radial Points\" #Set the title of the figure\n",
    "\n",
    "#Plot the sampled radius points in a fancier manner\n",
    "myMod.plot_attr(\"radius\", figsize=figsize, xlog=xlog, yscaler=yscaler, yunit=yunit,\n",
    "                markercolor=markercolor, markersize=markersize, linecolor=linecolor,\n",
    "                linewidth=linewidth, alpha=alpha, title=title)"
   ]
  },
  {
   "cell_type": "markdown",
   "metadata": {},
   "source": [
    "Now let's move on to the 2D case. We can plot the phi component of the 2D velocity like so:"
   ]
  },
  {
   "cell_type": "code",
   "execution_count": null,
   "metadata": {},
   "outputs": [],
   "source": [
    "#Plot the gas temperature and a velocity component\n",
    "myMod.plot_attr(\"velocity_phi\") #For the phi component of the velocity\n",
    "myMod.plot_attr(\"gastemperature\") #For the gas temperature"
   ]
  },
  {
   "cell_type": "markdown",
   "metadata": {},
   "source": [
    "This time, the code automatically plotted the given attribute against radius and theta, and automatically populated the axis labels+units for us.\n",
    "\n",
    "Let's make the 2D plot a little fancier as well.  This time, let's do the following for the gas temperature plot:\n",
    "- Change the figure size\n",
    "- Change the x-axis scale to log\n",
    "- Change the units of all axes by scaling the values\n",
    "- Override all axis label units\n",
    "- Increase various font sizes\n",
    "- Change the colormap and its contour levels\n",
    "- Put in a title"
   ]
  },
  {
   "cell_type": "code",
   "execution_count": null,
   "metadata": {},
   "outputs": [],
   "source": [
    "#Set some parameters to pass into the plot_attr method\n",
    "\n",
    "#Overall figure/title changes\n",
    "figsize = (15, 15) #Figure size\n",
    "xlog = True #Put the x-axis on a log-scale\n",
    "title = \"A Snazzy Velocity Gradient\" #Set the title of the figure\n",
    "\n",
    "#Scale and unit changes\n",
    "xscaler = 6.6846E-14 #Multiplicative factor; will scale the x-axis from cm to AU\n",
    "xunit = \"AU\" #Override the x-axis label unit\n",
    "yscaler = 180.0/3.14159 #Multiplicative factor; will scale the y-axis from radians to degrees\n",
    "yunit = \"deg\" #Override the y-axis label unit\n",
    "zscaler = 1E-5 #Multiplicative factor; will scale the z-axis from cm/s to km/s\n",
    "zunit = r\"km $s^{-1}$\" #Override the z-axis label unit (Latex notation)\n",
    "\n",
    "#Colormap changes\n",
    "import matplotlib.pyplot as plt #We need to import this to fetch a different colorbar\n",
    "cmap = plt.cm.viridis_r #Change the colormap\n",
    "levels = 100 #Number of contour levels to use for the gradient\n",
    "#Uncomment the line below to manually set the levels, rather than the number of levels\n",
    "#levels = [10, 20, 40, 80, 160, 320, 640] #The contour levels to use for the gradient\n",
    "\n",
    "#Font and title changes\n",
    "axisfontsize = 20 #Axis fontsize\n",
    "titlefontsize = 22 #Title fontsize\n",
    "tickfontsize = 20 #Tick label fontsize\n",
    "\n",
    "#Plot the phi component of the velocity in a fancier manner\n",
    "myMod.plot_attr(\"velocity_phi\", figsize=figsize, xlog=xlog, xscaler=xscaler, xunit=xunit,\n",
    "                yscaler=yscaler, yunit=yunit, zscaler=zscaler, zunit=zunit, levels=levels,\n",
    "                cmap=cmap, title=title, axisfontsize=axisfontsize,\n",
    "                titlefontsize=titlefontsize, tickfontsize=tickfontsize)"
   ]
  },
  {
   "cell_type": "markdown",
   "metadata": {},
   "source": [
    "### **Note that we can always get a full list of the parameters for this method (** ***and any other method in this class*** **) by printing the method's docstring:**"
   ]
  },
  {
   "cell_type": "code",
   "execution_count": null,
   "metadata": {},
   "outputs": [],
   "source": [
    "#Print the docstring for this method\n",
    "print(myMod.plot_attr.__doc__)"
   ]
  },
  {
   "cell_type": "markdown",
   "metadata": {},
   "source": [
    "Finally, we can save this plot by setting $\\textit{dosave=True}$ and passing in a name to save the plot under:"
   ]
  },
  {
   "cell_type": "code",
   "execution_count": null,
   "metadata": {},
   "outputs": [],
   "source": [
    "#Set a string name to save the plot\n",
    "savename = \"fancyplot.png\"\n",
    "\n",
    "#Save the fancy plot of the phi component of the velocity\n",
    "myMod.plot_attr(\"velocity_phi\", figsize=figsize, xlog=xlog, xscaler=xscaler, xunit=xunit,\n",
    "                yscaler=yscaler, yunit=yunit, zscaler=zscaler, zunit=zunit, levels=levels,\n",
    "                cmap=cmap, title=title, axisfontsize=axisfontsize,\n",
    "                titlefontsize=titlefontsize, tickfontsize=tickfontsize,\n",
    "               dosave=True, savename=savename)"
   ]
  },
  {
   "cell_type": "markdown",
   "metadata": {},
   "source": [
    "We can also chain and overlap plots.  We'll talk about that technique in the multiruns tutorial (called \"tutorial_multiruns.ipynb\"), as it's a much more useful technique when plotting spectra across different RADLite runs."
   ]
  },
  {
   "cell_type": "markdown",
   "metadata": {},
   "source": [
    "## Running RADLite"
   ]
  },
  {
   "cell_type": "markdown",
   "metadata": {},
   "source": [
    "Now that we have inspected the input, we can go ahead and run RADLite!  We do so by calling the $\\textit{run_radlite}$ method.\n",
    "\n",
    "***Fair warning: this method can take a while!!!***  RADLite calculates each molecular line individually, so the more molecular lines you have in the range of criteria you specified in the input file (minimum-maximum wavelength range, minimum-maximum abundances, maximum upper energy level, etc.), the longer the code will take to process them all.  Increasing the number of cores will decrease the overall run time, but at the end of the day you're limited by your own computing power.\n",
    "\n",
    "The default parameters given in the input file as a part of this tutorial will cause this next block of code to take about a ~minute."
   ]
  },
  {
   "cell_type": "code",
   "execution_count": null,
   "metadata": {
    "scrolled": false
   },
   "outputs": [],
   "source": [
    "#Run RADLite\n",
    "myMod.run_radlite()"
   ]
  },
  {
   "cell_type": "markdown",
   "metadata": {},
   "source": [
    "Once $\\textit{run_radlite}$ has finished, and if $\\textit{verbose=True}$ in the input RADLite file, then we get a verbal message saying \"Done running run_radlite()!\".\n",
    "\n",
    "Now we can check our local directory.  Within the folder we specified in the input RADLite file (default is \"rundir\"), we now see a folder called \"outputdir\" containing all of the files output by RADLite.  We can process these files using the $\\textit{RadliteSpectrum}$ class, which we talk about in **the next tutorial: \"tutorial_RadliteSpectrum.ipynb\"**."
   ]
  }
 ],
 "metadata": {
  "kernelspec": {
   "display_name": "Python 3",
   "language": "python",
   "name": "python3"
  },
  "language_info": {
   "codemirror_mode": {
    "name": "ipython",
    "version": 3
   },
   "file_extension": ".py",
   "mimetype": "text/x-python",
   "name": "python",
   "nbconvert_exporter": "python",
   "pygments_lexer": "ipython3",
   "version": "3.7.3"
  }
 },
 "nbformat": 4,
 "nbformat_minor": 2
}
